{
 "cells": [
  {
   "cell_type": "markdown",
   "metadata": {},
   "source": [
    "## Individual\n",
    "This notebook aims to provide a guide-through to run behavioral tests for NLP models. Here the test are run to compare two different BERT-based models "
   ]
  },
  {
   "cell_type": "code",
   "execution_count": null,
   "metadata": {},
   "outputs": [],
   "source": [
    "import transformers\n",
    "import pandas as pd "
   ]
  },
  {
   "cell_type": "code",
   "execution_count": null,
   "metadata": {},
   "outputs": [],
   "source": [
    "# I don't need all the labelsbut only those I'm interested in\n",
    "challenge_labels = ['ARG0', 'ARG1', 'ARGM-LOC']\n"
   ]
  }
 ],
 "metadata": {
  "kernelspec": {
   "display_name": "ANLP",
   "language": "python",
   "name": "python3"
  },
  "language_info": {
   "name": "python",
   "version": "3.12.1"
  }
 },
 "nbformat": 4,
 "nbformat_minor": 2
}
